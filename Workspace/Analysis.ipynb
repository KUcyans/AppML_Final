{
 "cells": [
  {
   "cell_type": "code",
   "execution_count": 24,
   "metadata": {},
   "outputs": [],
   "source": [
    "import pandas as pd\n",
    "import matplotlib.pyplot as plt\n",
    "import numpy as np\n",
    "import sys\n",
    "from tqdm import tqdm\n",
    "import os"
   ]
  },
  {
   "cell_type": "code",
   "execution_count": 25,
   "metadata": {},
   "outputs": [],
   "source": [
    "sys.path.append('../External_Functions')\n",
    "from ExternalFunctions import Chi2Regression, BinnedLH, UnbinnedLH, simpson38\n",
    "from ExternalFunctions import nice_string_output, add_text_to_ax "
   ]
  },
  {
   "cell_type": "code",
   "execution_count": 26,
   "metadata": {},
   "outputs": [],
   "source": [
    "from MplSetup import getColour, setMplParam"
   ]
  },
  {
   "cell_type": "code",
   "execution_count": 27,
   "metadata": {},
   "outputs": [],
   "source": [
    "setMplParam(10)"
   ]
  },
  {
   "cell_type": "code",
   "execution_count": 28,
   "metadata": {},
   "outputs": [],
   "source": [
    "def readNFLPlay():\n",
    "    subDirPath = '../NFLPlay/'\n",
    "    plays = pd.read_csv(subDirPath+'plays.csv')\n",
    "    return plays"
   ]
  },
  {
   "cell_type": "code",
   "execution_count": 29,
   "metadata": {},
   "outputs": [],
   "source": [
    "NFLplays_raw = readNFLPlay()\n",
    "# 50 sec on Cyan's pc"
   ]
  },
  {
   "cell_type": "markdown",
   "metadata": {},
   "source": [
    "## the columns"
   ]
  },
  {
   "cell_type": "code",
   "execution_count": 30,
   "metadata": {},
   "outputs": [
    {
     "data": {
      "text/plain": [
       "(870384, 44)"
      ]
     },
     "execution_count": 30,
     "metadata": {},
     "output_type": "execute_result"
    }
   ],
   "source": [
    "NFLplays_raw.shape"
   ]
  },
  {
   "cell_type": "code",
   "execution_count": 31,
   "metadata": {},
   "outputs": [],
   "source": [
    "indices = ['playId', 'gameId']\n",
    "\n",
    "playCircumstance = ['playSequence', \n",
    "                'quarter', \n",
    "                'possessionTeamId',\n",
    "                'nonpossessionTeamId', \n",
    "                'playNumberByTeam',\n",
    "                'gameClock', \n",
    "                'down', \n",
    "                'distance',\n",
    "                'distanceToGoalPre',\n",
    "                'netYards',\n",
    "                'scorePossession',\n",
    "                'scoreNonpossession',\n",
    "                'fieldGoalProbability',]\n",
    "\n",
    "# classification\n",
    "playType = ['playType'\n",
    "            'huddle',\n",
    "            'formation']\n",
    "\n",
    "playResult = ['playType2', # only second item\n",
    "                'gameClockSecondsExpired',\n",
    "              'gameClockStoppedAfterPlay', \n",
    "               'noPlay', # is the play a penalty\n",
    "               'offensiveYards',\n",
    "               ]\n",
    "\n",
    "playSubsequence = ['isClockRunning', \n",
    "                        'changePossession', \n",
    "                        'turnover',\n",
    "                        'safety',\n",
    "                        'firstDown',]\n",
    "\n",
    "idk = [ 'typeOfPlay',\n",
    "        'fourthDownConversion',\n",
    "        'thirdDownConversion',\n",
    "        'homeScorePre', \n",
    "        'visitingScorePre',\n",
    "        'homeScorePost',\n",
    "        'visitingScorePost',\n",
    "        'distanceToGoalPost']\n",
    "\n",
    "# the original dataset has 3 columns of their own prediction of the play we may be able to use them as a reference\n",
    "reference = ['evPre',\n",
    "             'evPost', \n",
    "             'evPlay',]\n",
    "\n",
    "exclude = [ 'playTypeDetailed', # redundant to playType2\n",
    "            'fieldPosition', \n",
    "            'playDescription',\n",
    "            'playStats',\n",
    "            'playDescriptionFull', \n",
    "            'efficientPlay']"
   ]
  },
  {
   "cell_type": "markdown",
   "metadata": {},
   "source": [
    "# Data Analysis Algorithm\n",
    "1. playCircumstance -> XGB -> playType\n",
    "2. playCircumstance & playType -> Regression (NN?XGB?) -> playResult\n",
    "3. playResult -> **manual function** -> playCircumstance\n",
    "<!-- * updateCircumstance -->"
   ]
  },
  {
   "cell_type": "markdown",
   "metadata": {},
   "source": [
    "# Data Preprocessing"
   ]
  },
  {
   "cell_type": "code",
   "execution_count": 32,
   "metadata": {},
   "outputs": [],
   "source": [
    "import Preprocess as pp"
   ]
  },
  {
   "cell_type": "markdown",
   "metadata": {},
   "source": [
    "### <span style=\"color:red\">runPreprocess</span> \n",
    "this is where the collective preprocessing algorithms come into play!"
   ]
  },
  {
   "cell_type": "code",
   "execution_count": 33,
   "metadata": {},
   "outputs": [],
   "source": [
    "NFLplays = pp.runPreprocess(NFLplays_raw, exclude, idk)\n",
    "# 8 sec on Cyan's laptop"
   ]
  },
  {
   "cell_type": "code",
   "execution_count": 38,
   "metadata": {},
   "outputs": [],
   "source": [
    "splitted = pp.getSplittedList(NFLplays)\n",
    "# 18.8sec"
   ]
  },
  {
   "cell_type": "code",
   "execution_count": 40,
   "metadata": {},
   "outputs": [
    {
     "name": "stdout",
     "output_type": "stream",
     "text": [
      "5308\n"
     ]
    }
   ],
   "source": [
    "print(len(splitted))"
   ]
  },
  {
   "cell_type": "code",
   "execution_count": 36,
   "metadata": {},
   "outputs": [
    {
     "ename": "KeyError",
     "evalue": "0",
     "output_type": "error",
     "traceback": [
      "\u001b[0;31m---------------------------------------------------------------------------\u001b[0m",
      "\u001b[0;31mKeyError\u001b[0m                                  Traceback (most recent call last)",
      "Cell \u001b[0;32mIn[36], line 1\u001b[0m\n\u001b[0;32m----> 1\u001b[0m \u001b[43msplitted\u001b[49m\u001b[43m[\u001b[49m\u001b[38;5;241;43m0\u001b[39;49m\u001b[43m]\u001b[49m[:\u001b[38;5;241m20\u001b[39m]\n",
      "\u001b[0;31mKeyError\u001b[0m: 0"
     ]
    }
   ],
   "source": [
    "splitted[0][:20]"
   ]
  },
  {
   "cell_type": "code",
   "execution_count": null,
   "metadata": {},
   "outputs": [],
   "source": [
    "splitted[0][-20:-1]"
   ]
  },
  {
   "cell_type": "code",
   "execution_count": null,
   "metadata": {},
   "outputs": [
    {
     "data": {
      "text/plain": [
       "Index(['playId', 'gameId', 'playSequence', 'quarter', 'possessionTeamId',\n",
       "       'nonpossessionTeamId', 'playType', 'playNumberByTeam', 'gameClock',\n",
       "       'gameClockSecondsExpired', 'gameClockStoppedAfterPlay', 'down',\n",
       "       'distance', 'distanceToGoalPre', 'noPlay', 'changePossession',\n",
       "       'turnover', 'safety', 'offensiveYards', 'netYards', 'firstDown',\n",
       "       'evPre', 'evPost', 'evPlay', 'scorePossession', 'scoreNonpossession',\n",
       "       'fieldGoalProbability', 'huddle', 'formation', 'playResult'],\n",
       "      dtype='object')"
      ]
     },
     "execution_count": 18,
     "metadata": {},
     "output_type": "execute_result"
    }
   ],
   "source": [
    "NFLplays.columns"
   ]
  },
  {
   "cell_type": "code",
   "execution_count": null,
   "metadata": {},
   "outputs": [
    {
     "data": {
      "text/plain": [
       "870384"
      ]
     },
     "execution_count": 21,
     "metadata": {},
     "output_type": "execute_result"
    }
   ],
   "source": [
    "NFLplays.shape[0]"
   ]
  },
  {
   "cell_type": "markdown",
   "metadata": {},
   "source": [
    "* see the set of `'playType'` values"
   ]
  },
  {
   "cell_type": "code",
   "execution_count": null,
   "metadata": {},
   "outputs": [],
   "source": [
    "# NFLplays['playType'].unique()"
   ]
  },
  {
   "cell_type": "markdown",
   "metadata": {},
   "source": [
    "* `fieldGoalProbability` has nan for these `playType` values\n",
    "  * 'kickoff'\n",
    "  * 'xp'\n",
    "  * 'two-point'\n",
    "  * 'aborted'"
   ]
  },
  {
   "cell_type": "code",
   "execution_count": null,
   "metadata": {},
   "outputs": [],
   "source": [
    "# NFLplays[NFLplays['fieldGoalProbability'].isnull() & \n",
    "#                        (NFLplays['playType'] != 'kickoff') & \n",
    "#                        (NFLplays['playType'] != 'xp') &\n",
    "#                        (NFLplays['playType'] != 'two-point')&\n",
    "#                        (NFLplays['playType'] != 'aborted')]"
   ]
  },
  {
   "cell_type": "markdown",
   "metadata": {},
   "source": [
    "* `huddle` has nan for these `playType` values\n",
    "  * 'kickoff'\n",
    "  * 'field goal'\n",
    "  * 'punt'\n",
    "  * 'xp'\n",
    "  * 'two-point'\n",
    "  * 'penalty'\n",
    "  * 'aborted'"
   ]
  },
  {
   "cell_type": "code",
   "execution_count": null,
   "metadata": {},
   "outputs": [],
   "source": [
    "# NFLplays[NFLplays['huddle'].isnull() & \n",
    "#                        (NFLplays['playType'] != 'kickoff') & \n",
    "#                        (NFLplays['playType'] != 'field goal') &\n",
    "#                         (NFLplays['playType'] != 'punt') &\n",
    "#                        (NFLplays['playType'] != 'xp')&\n",
    "#                           (NFLplays['playType'] != 'two-point')&\n",
    "#                           (NFLplays['playType'] != 'penalty')&\n",
    "#                        (NFLplays['playType'] != 'aborted')]"
   ]
  },
  {
   "cell_type": "markdown",
   "metadata": {},
   "source": [
    "## Classification using XGB\n",
    "* due to heavy computational cost, use `fraction` to sample some of the whole data\n",
    "* if too small fraction of data are used, it returns an error\n",
    "\n",
    "|fraction| time taken| hh : mm |\n",
    "|--------|-----------|---------|\n",
    "|1.0     |485 min    | 08 : 05 |\n",
    "|0.33    |152 min    | 02 : 32 |\n",
    "|0.1     |42 min     | 00 : 42 |"
   ]
  },
  {
   "cell_type": "code",
   "execution_count": null,
   "metadata": {},
   "outputs": [],
   "source": [
    "import Classification as clf"
   ]
  },
  {
   "cell_type": "code",
   "execution_count": null,
   "metadata": {},
   "outputs": [
    {
     "name": "stdout",
     "output_type": "stream",
     "text": [
      "Analysis Sample Size: 870384\n"
     ]
    }
   ],
   "source": [
    "FRACTION = 1.0\n",
    "analysisSampleSize = int(NFLplays.shape[0]*FRACTION)\n",
    "print(f'Analysis Sample Size: {analysisSampleSize}')"
   ]
  },
  {
   "cell_type": "code",
   "execution_count": null,
   "metadata": {},
   "outputs": [
    {
     "name": "stdout",
     "output_type": "stream",
     "text": [
      "Fraction string tag: 100\n"
     ]
    }
   ],
   "source": [
    "print(f'Fraction string tag: {clf.convertFractionIntoString(FRACTION)}')"
   ]
  },
  {
   "cell_type": "markdown",
   "metadata": {},
   "source": [
    "### <span style=\"color:red\">runPlayTypeClassification</span> \n",
    "this is where the collective classification runs  \n",
    "arguments\n",
    "* the data frame\n",
    "* the fraction(a numerical value between 0 and 1)\n",
    "* the k-fold split number(no default value)\n"
   ]
  },
  {
   "cell_type": "code",
   "execution_count": null,
   "metadata": {},
   "outputs": [
    {
     "name": "stderr",
     "output_type": "stream",
     "text": [
      "Processing Targets:  33%|███▎      | 1/3 [3:55:33<7:51:06, 14133.20s/it]c:\\Users\\yhjo7\\AppData\\Local\\Programs\\Python\\Python39\\lib\\site-packages\\sklearn\\metrics\\_classification.py:1509: UndefinedMetricWarning: Precision is ill-defined and being set to 0.0 in labels with no predicted samples. Use `zero_division` parameter to control this behavior.\n",
      "  _warn_prf(average, modifier, f\"{metric.capitalize()} is\", len(result))\n",
      "c:\\Users\\yhjo7\\AppData\\Local\\Programs\\Python\\Python39\\lib\\site-packages\\sklearn\\metrics\\_classification.py:1509: UndefinedMetricWarning: Precision is ill-defined and being set to 0.0 in labels with no predicted samples. Use `zero_division` parameter to control this behavior.\n",
      "  _warn_prf(average, modifier, f\"{metric.capitalize()} is\", len(result))\n",
      "c:\\Users\\yhjo7\\AppData\\Local\\Programs\\Python\\Python39\\lib\\site-packages\\sklearn\\metrics\\_classification.py:1509: UndefinedMetricWarning: Precision is ill-defined and being set to 0.0 in labels with no predicted samples. Use `zero_division` parameter to control this behavior.\n",
      "  _warn_prf(average, modifier, f\"{metric.capitalize()} is\", len(result))\n",
      "c:\\Users\\yhjo7\\AppData\\Local\\Programs\\Python\\Python39\\lib\\site-packages\\sklearn\\metrics\\_classification.py:1509: UndefinedMetricWarning: Precision is ill-defined and being set to 0.0 in labels with no predicted samples. Use `zero_division` parameter to control this behavior.\n",
      "  _warn_prf(average, modifier, f\"{metric.capitalize()} is\", len(result))\n",
      "c:\\Users\\yhjo7\\AppData\\Local\\Programs\\Python\\Python39\\lib\\site-packages\\sklearn\\metrics\\_classification.py:1509: UndefinedMetricWarning: Precision is ill-defined and being set to 0.0 in labels with no predicted samples. Use `zero_division` parameter to control this behavior.\n",
      "  _warn_prf(average, modifier, f\"{metric.capitalize()} is\", len(result))\n",
      "c:\\Users\\yhjo7\\AppData\\Local\\Programs\\Python\\Python39\\lib\\site-packages\\sklearn\\metrics\\_classification.py:1509: UndefinedMetricWarning: Precision is ill-defined and being set to 0.0 in labels with no predicted samples. Use `zero_division` parameter to control this behavior.\n",
      "  _warn_prf(average, modifier, f\"{metric.capitalize()} is\", len(result))\n",
      "c:\\Users\\yhjo7\\AppData\\Local\\Programs\\Python\\Python39\\lib\\site-packages\\sklearn\\metrics\\_classification.py:1509: UndefinedMetricWarning: Precision is ill-defined and being set to 0.0 in labels with no predicted samples. Use `zero_division` parameter to control this behavior.\n",
      "  _warn_prf(average, modifier, f\"{metric.capitalize()} is\", len(result))\n",
      "c:\\Users\\yhjo7\\AppData\\Local\\Programs\\Python\\Python39\\lib\\site-packages\\sklearn\\metrics\\_classification.py:1509: UndefinedMetricWarning: Precision is ill-defined and being set to 0.0 in labels with no predicted samples. Use `zero_division` parameter to control this behavior.\n",
      "  _warn_prf(average, modifier, f\"{metric.capitalize()} is\", len(result))\n",
      "c:\\Users\\yhjo7\\AppData\\Local\\Programs\\Python\\Python39\\lib\\site-packages\\sklearn\\metrics\\_classification.py:1509: UndefinedMetricWarning: Precision is ill-defined and being set to 0.0 in labels with no predicted samples. Use `zero_division` parameter to control this behavior.\n",
      "  _warn_prf(average, modifier, f\"{metric.capitalize()} is\", len(result))\n",
      "c:\\Users\\yhjo7\\AppData\\Local\\Programs\\Python\\Python39\\lib\\site-packages\\sklearn\\metrics\\_classification.py:1509: UndefinedMetricWarning: Precision is ill-defined and being set to 0.0 in labels with no predicted samples. Use `zero_division` parameter to control this behavior.\n",
      "  _warn_prf(average, modifier, f\"{metric.capitalize()} is\", len(result))\n",
      "c:\\Users\\yhjo7\\AppData\\Local\\Programs\\Python\\Python39\\lib\\site-packages\\sklearn\\metrics\\_classification.py:1509: UndefinedMetricWarning: Precision is ill-defined and being set to 0.0 in labels with no predicted samples. Use `zero_division` parameter to control this behavior.\n",
      "  _warn_prf(average, modifier, f\"{metric.capitalize()} is\", len(result))\n",
      "c:\\Users\\yhjo7\\AppData\\Local\\Programs\\Python\\Python39\\lib\\site-packages\\sklearn\\metrics\\_classification.py:1509: UndefinedMetricWarning: Precision is ill-defined and being set to 0.0 in labels with no predicted samples. Use `zero_division` parameter to control this behavior.\n",
      "  _warn_prf(average, modifier, f\"{metric.capitalize()} is\", len(result))\n",
      "Processing Targets:  67%|██████▋   | 2/3 [5:10:38<2:21:09, 8469.66s/it] c:\\Users\\yhjo7\\AppData\\Local\\Programs\\Python\\Python39\\lib\\site-packages\\sklearn\\metrics\\_classification.py:1509: UndefinedMetricWarning: Precision is ill-defined and being set to 0.0 in labels with no predicted samples. Use `zero_division` parameter to control this behavior.\n",
      "  _warn_prf(average, modifier, f\"{metric.capitalize()} is\", len(result))\n",
      "c:\\Users\\yhjo7\\AppData\\Local\\Programs\\Python\\Python39\\lib\\site-packages\\sklearn\\metrics\\_classification.py:1509: UndefinedMetricWarning: Precision is ill-defined and being set to 0.0 in labels with no predicted samples. Use `zero_division` parameter to control this behavior.\n",
      "  _warn_prf(average, modifier, f\"{metric.capitalize()} is\", len(result))\n",
      "c:\\Users\\yhjo7\\AppData\\Local\\Programs\\Python\\Python39\\lib\\site-packages\\sklearn\\metrics\\_classification.py:1509: UndefinedMetricWarning: Precision is ill-defined and being set to 0.0 in labels with no predicted samples. Use `zero_division` parameter to control this behavior.\n",
      "  _warn_prf(average, modifier, f\"{metric.capitalize()} is\", len(result))\n",
      "Processing Targets: 100%|██████████| 3/3 [8:05:01<00:00, 9700.40s/it]  \n"
     ]
    }
   ],
   "source": [
    "# runPlayTypeClassification(NFLplays, FRACTION, 5)\n",
    "# 1.0 : 485 min : 8 hr 5 min\n",
    "# 0.33: 152 min : 2 hr 32 min\n",
    "# 0.1 : 42 min : 0.7 hr"
   ]
  },
  {
   "cell_type": "code",
   "execution_count": null,
   "metadata": {},
   "outputs": [
    {
     "name": "stdout",
     "output_type": "stream",
     "text": [
      "Results for playType:\n",
      "  Cross-validation scores: [0.80457499, 0.80728069, 0.80660283, 0.80676367, 0.80533215]\n",
      "  Average accuracy: 0.8061\n",
      "  Best parameters:\n",
      "  Accuracies: [0.8046381773582955, 0.8075794045163922, 0.8070394135928354, 0.8077000407865484, 0.8056653415749443]\n",
      "  Best accuracy: 0.8077\n"
     ]
    }
   ],
   "source": [
    "loaded_results = clf.loadResult('../PlayTypeClassification/Classification', 'playType', 1)"
   ]
  },
  {
   "cell_type": "code",
   "execution_count": null,
   "metadata": {},
   "outputs": [
    {
     "data": {
      "text/html": [
       "<div>\n",
       "<style scoped>\n",
       "    .dataframe tbody tr th:only-of-type {\n",
       "        vertical-align: middle;\n",
       "    }\n",
       "\n",
       "    .dataframe tbody tr th {\n",
       "        vertical-align: top;\n",
       "    }\n",
       "\n",
       "    .dataframe thead th {\n",
       "        text-align: right;\n",
       "    }\n",
       "</style>\n",
       "<table border=\"1\" class=\"dataframe\">\n",
       "  <thead>\n",
       "    <tr style=\"text-align: right;\">\n",
       "      <th></th>\n",
       "      <th>X_test</th>\n",
       "      <th>y_test</th>\n",
       "      <th>y_pred</th>\n",
       "      <th>y_pred_proba</th>\n",
       "    </tr>\n",
       "  </thead>\n",
       "  <tbody>\n",
       "    <tr>\n",
       "      <th>174067</th>\n",
       "      <td>870303</td>\n",
       "      <td>3</td>\n",
       "      <td>3</td>\n",
       "      <td>0.000179</td>\n",
       "    </tr>\n",
       "    <tr>\n",
       "      <th>174068</th>\n",
       "      <td>870309</td>\n",
       "      <td>4</td>\n",
       "      <td>4</td>\n",
       "      <td>0.357101</td>\n",
       "    </tr>\n",
       "    <tr>\n",
       "      <th>174069</th>\n",
       "      <td>870315</td>\n",
       "      <td>1</td>\n",
       "      <td>1</td>\n",
       "      <td>0.930258</td>\n",
       "    </tr>\n",
       "    <tr>\n",
       "      <th>174070</th>\n",
       "      <td>870321</td>\n",
       "      <td>4</td>\n",
       "      <td>1</td>\n",
       "      <td>0.492764</td>\n",
       "    </tr>\n",
       "    <tr>\n",
       "      <th>174071</th>\n",
       "      <td>870322</td>\n",
       "      <td>4</td>\n",
       "      <td>1</td>\n",
       "      <td>0.742609</td>\n",
       "    </tr>\n",
       "    <tr>\n",
       "      <th>174072</th>\n",
       "      <td>870323</td>\n",
       "      <td>1</td>\n",
       "      <td>1</td>\n",
       "      <td>0.826430</td>\n",
       "    </tr>\n",
       "    <tr>\n",
       "      <th>174073</th>\n",
       "      <td>870326</td>\n",
       "      <td>1</td>\n",
       "      <td>1</td>\n",
       "      <td>0.826433</td>\n",
       "    </tr>\n",
       "    <tr>\n",
       "      <th>174074</th>\n",
       "      <td>870362</td>\n",
       "      <td>1</td>\n",
       "      <td>4</td>\n",
       "      <td>0.068211</td>\n",
       "    </tr>\n",
       "    <tr>\n",
       "      <th>174075</th>\n",
       "      <td>870363</td>\n",
       "      <td>1</td>\n",
       "      <td>1</td>\n",
       "      <td>0.726353</td>\n",
       "    </tr>\n",
       "  </tbody>\n",
       "</table>\n",
       "</div>"
      ],
      "text/plain": [
       "        X_test  y_test  y_pred  y_pred_proba\n",
       "174067  870303       3       3      0.000179\n",
       "174068  870309       4       4      0.357101\n",
       "174069  870315       1       1      0.930258\n",
       "174070  870321       4       1      0.492764\n",
       "174071  870322       4       1      0.742609\n",
       "174072  870323       1       1      0.826430\n",
       "174073  870326       1       1      0.826433\n",
       "174074  870362       1       4      0.068211\n",
       "174075  870363       1       1      0.726353"
      ]
     },
     "execution_count": 27,
     "metadata": {},
     "output_type": "execute_result"
    }
   ],
   "source": [
    "loaded_classification = clf.loadClassification('../PlayTypeClassification/Classification', 'playType', 1)"
   ]
  },
  {
   "cell_type": "code",
   "execution_count": null,
   "metadata": {},
   "outputs": [
    {
     "data": {
      "text/html": [
       "<div>\n",
       "<style scoped>\n",
       "    .dataframe tbody tr th:only-of-type {\n",
       "        vertical-align: middle;\n",
       "    }\n",
       "\n",
       "    .dataframe tbody tr th {\n",
       "        vertical-align: top;\n",
       "    }\n",
       "\n",
       "    .dataframe thead th {\n",
       "        text-align: right;\n",
       "    }\n",
       "</style>\n",
       "<table border=\"1\" class=\"dataframe\">\n",
       "  <thead>\n",
       "    <tr style=\"text-align: right;\">\n",
       "      <th></th>\n",
       "      <th>X_test</th>\n",
       "      <th>y_test</th>\n",
       "      <th>y_pred</th>\n",
       "      <th>y_pred_proba</th>\n",
       "    </tr>\n",
       "  </thead>\n",
       "  <tbody>\n",
       "    <tr>\n",
       "      <th>0</th>\n",
       "      <td>0</td>\n",
       "      <td>0</td>\n",
       "      <td>0</td>\n",
       "      <td>0.000021</td>\n",
       "    </tr>\n",
       "    <tr>\n",
       "      <th>1</th>\n",
       "      <td>1</td>\n",
       "      <td>1</td>\n",
       "      <td>1</td>\n",
       "      <td>0.764010</td>\n",
       "    </tr>\n",
       "    <tr>\n",
       "      <th>2</th>\n",
       "      <td>3</td>\n",
       "      <td>1</td>\n",
       "      <td>1</td>\n",
       "      <td>0.779311</td>\n",
       "    </tr>\n",
       "    <tr>\n",
       "      <th>3</th>\n",
       "      <td>5</td>\n",
       "      <td>1</td>\n",
       "      <td>1</td>\n",
       "      <td>0.925746</td>\n",
       "    </tr>\n",
       "    <tr>\n",
       "      <th>4</th>\n",
       "      <td>6</td>\n",
       "      <td>1</td>\n",
       "      <td>4</td>\n",
       "      <td>0.181157</td>\n",
       "    </tr>\n",
       "    <tr>\n",
       "      <th>5</th>\n",
       "      <td>8</td>\n",
       "      <td>1</td>\n",
       "      <td>1</td>\n",
       "      <td>0.921270</td>\n",
       "    </tr>\n",
       "    <tr>\n",
       "      <th>6</th>\n",
       "      <td>14</td>\n",
       "      <td>4</td>\n",
       "      <td>4</td>\n",
       "      <td>0.211993</td>\n",
       "    </tr>\n",
       "    <tr>\n",
       "      <th>7</th>\n",
       "      <td>16</td>\n",
       "      <td>4</td>\n",
       "      <td>4</td>\n",
       "      <td>0.398322</td>\n",
       "    </tr>\n",
       "    <tr>\n",
       "      <th>8</th>\n",
       "      <td>31</td>\n",
       "      <td>1</td>\n",
       "      <td>1</td>\n",
       "      <td>0.829907</td>\n",
       "    </tr>\n",
       "    <tr>\n",
       "      <th>9</th>\n",
       "      <td>42</td>\n",
       "      <td>5</td>\n",
       "      <td>5</td>\n",
       "      <td>0.000409</td>\n",
       "    </tr>\n",
       "    <tr>\n",
       "      <th>10</th>\n",
       "      <td>44</td>\n",
       "      <td>4</td>\n",
       "      <td>1</td>\n",
       "      <td>0.530927</td>\n",
       "    </tr>\n",
       "    <tr>\n",
       "      <th>11</th>\n",
       "      <td>47</td>\n",
       "      <td>4</td>\n",
       "      <td>1</td>\n",
       "      <td>0.667472</td>\n",
       "    </tr>\n",
       "    <tr>\n",
       "      <th>12</th>\n",
       "      <td>50</td>\n",
       "      <td>4</td>\n",
       "      <td>4</td>\n",
       "      <td>0.115585</td>\n",
       "    </tr>\n",
       "    <tr>\n",
       "      <th>13</th>\n",
       "      <td>57</td>\n",
       "      <td>1</td>\n",
       "      <td>1</td>\n",
       "      <td>0.491564</td>\n",
       "    </tr>\n",
       "    <tr>\n",
       "      <th>14</th>\n",
       "      <td>61</td>\n",
       "      <td>1</td>\n",
       "      <td>1</td>\n",
       "      <td>0.898255</td>\n",
       "    </tr>\n",
       "    <tr>\n",
       "      <th>15</th>\n",
       "      <td>64</td>\n",
       "      <td>1</td>\n",
       "      <td>1</td>\n",
       "      <td>0.884472</td>\n",
       "    </tr>\n",
       "    <tr>\n",
       "      <th>16</th>\n",
       "      <td>80</td>\n",
       "      <td>0</td>\n",
       "      <td>0</td>\n",
       "      <td>0.000014</td>\n",
       "    </tr>\n",
       "    <tr>\n",
       "      <th>17</th>\n",
       "      <td>92</td>\n",
       "      <td>1</td>\n",
       "      <td>1</td>\n",
       "      <td>0.810099</td>\n",
       "    </tr>\n",
       "    <tr>\n",
       "      <th>18</th>\n",
       "      <td>96</td>\n",
       "      <td>1</td>\n",
       "      <td>1</td>\n",
       "      <td>0.876259</td>\n",
       "    </tr>\n",
       "    <tr>\n",
       "      <th>19</th>\n",
       "      <td>112</td>\n",
       "      <td>4</td>\n",
       "      <td>4</td>\n",
       "      <td>0.425017</td>\n",
       "    </tr>\n",
       "  </tbody>\n",
       "</table>\n",
       "</div>"
      ],
      "text/plain": [
       "    X_test  y_test  y_pred  y_pred_proba\n",
       "0        0       0       0      0.000021\n",
       "1        1       1       1      0.764010\n",
       "2        3       1       1      0.779311\n",
       "3        5       1       1      0.925746\n",
       "4        6       1       4      0.181157\n",
       "5        8       1       1      0.921270\n",
       "6       14       4       4      0.211993\n",
       "7       16       4       4      0.398322\n",
       "8       31       1       1      0.829907\n",
       "9       42       5       5      0.000409\n",
       "10      44       4       1      0.530927\n",
       "11      47       4       1      0.667472\n",
       "12      50       4       4      0.115585\n",
       "13      57       1       1      0.491564\n",
       "14      61       1       1      0.898255\n",
       "15      64       1       1      0.884472\n",
       "16      80       0       0      0.000014\n",
       "17      92       1       1      0.810099\n",
       "18      96       1       1      0.876259\n",
       "19     112       4       4      0.425017"
      ]
     },
     "execution_count": 38,
     "metadata": {},
     "output_type": "execute_result"
    }
   ],
   "source": [
    "loaded_classification[:20]"
   ]
  },
  {
   "cell_type": "code",
   "execution_count": null,
   "metadata": {},
   "outputs": [],
   "source": [
    "loaded_classification[-10:-1]"
   ]
  },
  {
   "cell_type": "markdown",
   "metadata": {},
   "source": [
    "1. data preprocessing\n",
    "2. data division: playCircumstance, playType, playResult\n",
    "3. XGB classification using play circumstance to predict play type.\n",
    "4. combination of play circumstance and the predicted play type\n",
    "5. regression using the combined data for get play result\n",
    "6. define a function that takes the play result as one of its arguments and returns updated play circumstance\n",
    "7. repeat (3)-(6)"
   ]
  },
  {
   "cell_type": "markdown",
   "metadata": {},
   "source": [
    "so the first classification has finished\n",
    "## Questions?\n",
    "1. **What will we get from doing the regression?**  \n",
    " * By doing the regression, we can quantify how different circumstances and play types contribute to the result, which can be valuable for strategic decisions\n",
    "2. **Use of the predicted playType for the regression**  \n",
    "* We introduce a layer of uncertainty   \n",
    "* Simulating real-world scenarios might not always have the actual playType  \n",
    "* We can understand how errors in classification propagate through to our final result predictions  \n",
    "3. **Function to Update Circumstances**  \n",
    "* Scenario Analysis  \n",
    "* Strategy Optimization  \n",
    "* Long-Term Predictions(?)  "
   ]
  }
 ],
 "metadata": {
  "kernelspec": {
   "display_name": "Python 3",
   "language": "python",
   "name": "python3"
  },
  "language_info": {
   "codemirror_mode": {
    "name": "ipython",
    "version": 3
   },
   "file_extension": ".py",
   "mimetype": "text/x-python",
   "name": "python",
   "nbconvert_exporter": "python",
   "pygments_lexer": "ipython3",
   "version": "3.9.13"
  }
 },
 "nbformat": 4,
 "nbformat_minor": 2
}
