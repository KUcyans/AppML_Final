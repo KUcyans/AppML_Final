{
 "cells": [
  {
   "cell_type": "code",
   "execution_count": 1,
   "metadata": {},
   "outputs": [],
   "source": [
    "import pandas as pd\n",
    "import matplotlib.pyplot as plt\n",
    "import numpy as np\n",
    "import sys\n",
    "from tqdm import tqdm\n",
    "import os"
   ]
  },
  {
   "cell_type": "code",
   "execution_count": 2,
   "metadata": {},
   "outputs": [],
   "source": [
    "# Sklearn\n",
    "# from sklearn.model_selection import train_test_split, KFold, cross_val_score\n",
    "# from sklearn.metrics import confusion_matrix, accuracy_score, ConfusionMatrixDisplay, classification_report"
   ]
  },
  {
   "cell_type": "code",
   "execution_count": 3,
   "metadata": {},
   "outputs": [],
   "source": [
    "sys.path.append('../External_Functions')\n",
    "from ExternalFunctions import Chi2Regression, BinnedLH, UnbinnedLH, simpson38\n",
    "from ExternalFunctions import nice_string_output, add_text_to_ax "
   ]
  },
  {
   "cell_type": "code",
   "execution_count": 4,
   "metadata": {},
   "outputs": [],
   "source": [
    "from MplSetup import getColour, setMplParam\n",
    "# from AccessibilityUtils import onCompletion"
   ]
  },
  {
   "cell_type": "code",
   "execution_count": 5,
   "metadata": {},
   "outputs": [],
   "source": [
    "setMplParam(10)"
   ]
  },
  {
   "cell_type": "code",
   "execution_count": 6,
   "metadata": {},
   "outputs": [],
   "source": [
    "def readNFLPlay():\n",
    "    subDirPath = '../NFLPlay/'\n",
    "    plays = pd.read_csv(subDirPath+'plays.csv')\n",
    "    return plays"
   ]
  },
  {
   "cell_type": "code",
   "execution_count": 7,
   "metadata": {},
   "outputs": [],
   "source": [
    "NFLplays_raw = readNFLPlay()\n",
    "# 50 sec on Cyan's pc"
   ]
  },
  {
   "cell_type": "code",
   "execution_count": 8,
   "metadata": {},
   "outputs": [],
   "source": [
    "# NFLplays_raw.head()"
   ]
  },
  {
   "cell_type": "code",
   "execution_count": 9,
   "metadata": {},
   "outputs": [],
   "source": [
    "# NFLplays_raw[NFLplays_raw['gameId']==26909][:5]"
   ]
  },
  {
   "cell_type": "code",
   "execution_count": 10,
   "metadata": {},
   "outputs": [],
   "source": [
    "# NFLplays_raw[NFLplays_raw['gameId']==26910][:10]"
   ]
  },
  {
   "cell_type": "markdown",
   "metadata": {},
   "source": [
    "## the columns"
   ]
  },
  {
   "cell_type": "code",
   "execution_count": 11,
   "metadata": {},
   "outputs": [],
   "source": [
    "# NFLplays_raw.columns"
   ]
  },
  {
   "cell_type": "code",
   "execution_count": 12,
   "metadata": {},
   "outputs": [
    {
     "data": {
      "text/plain": [
       "(870384, 44)"
      ]
     },
     "execution_count": 12,
     "metadata": {},
     "output_type": "execute_result"
    }
   ],
   "source": [
    "NFLplays_raw.shape"
   ]
  },
  {
   "cell_type": "code",
   "execution_count": 13,
   "metadata": {},
   "outputs": [],
   "source": [
    "# for i in NFLplays_raw['formation'].unique():\n",
    "#     n = NFLplays_raw[NFLplays_raw['formation']== i ].shape[0]\n",
    "#     print(f'{i:10}----------{n:6d}')"
   ]
  },
  {
   "cell_type": "code",
   "execution_count": 14,
   "metadata": {},
   "outputs": [],
   "source": [
    "indices = ['playId', 'gameId']\n",
    "\n",
    "playCircumstance = ['playSequence', \n",
    "                'quarter', \n",
    "                'possessionTeamId',\n",
    "                'nonpossessionTeamId', \n",
    "                'playNumberByTeam',\n",
    "                'gameClock', \n",
    "                'down', \n",
    "                'distance',\n",
    "                'distanceToGoalPre',\n",
    "                'netYards',\n",
    "                'scorePossession',\n",
    "                'scoreNonpossession',\n",
    "                'fieldGoalProbability',]\n",
    "\n",
    "# classification\n",
    "playType = ['playType'\n",
    "            'huddle',\n",
    "            'formation']\n",
    "\n",
    "playResult = ['playType2', # only second item\n",
    "                'gameClockSecondsExpired',\n",
    "              'gameClockStoppedAfterPlay', \n",
    "               'noPlay', # is the play a penalty\n",
    "               'offensiveYards']\n",
    "\n",
    "playSubsequence = ['isClockRunning', \n",
    "                        'changePossession', \n",
    "                        'turnover',\n",
    "                        'safety',\n",
    "                        'firstDown',]\n",
    "\n",
    "idk = [ 'typeOfPlay',\n",
    "        'fourthDownConversion',\n",
    "        'thirdDownConversion',\n",
    "        'homeScorePre', \n",
    "        'visitingScorePre',\n",
    "        'homeScorePost',\n",
    "        'visitingScorePost',\n",
    "        'distanceToGoalPost']\n",
    "\n",
    "# the original dataset has 3 columns of their own prediction of the play we may be able to use them as a reference\n",
    "reference = ['evPre',\n",
    "             'evPost', \n",
    "             'evPlay',]\n",
    "\n",
    "exclude = [ 'playTypeDetailed', # redundant to playType2\n",
    "            'fieldPosition', \n",
    "            'playDescription',\n",
    "            'playStats',\n",
    "            'playDescriptionFull', \n",
    "            'efficientPlay']"
   ]
  },
  {
   "cell_type": "markdown",
   "metadata": {},
   "source": [
    "# Data Analysis Algorithm\n",
    "1. playCircumstance -> XGB -> playType\n",
    "2. playCircumstance & playType -> Regression (NN?XGB?) -> playResult\n",
    "3. playResult -> **manual function** -> playCircumstance\n",
    "<!-- * updateCircumstance -->"
   ]
  },
  {
   "cell_type": "markdown",
   "metadata": {},
   "source": [
    "# Data Preprocessing"
   ]
  },
  {
   "cell_type": "code",
   "execution_count": 15,
   "metadata": {},
   "outputs": [],
   "source": [
    "from Preprocess import printColumnsHasNan, printNonNumericColumns, runPreprocess, getStringValue, getCircumstance, getPlayType, getPlayResult"
   ]
  },
  {
   "cell_type": "markdown",
   "metadata": {},
   "source": [
    "* see the set of `'playType'` values"
   ]
  },
  {
   "cell_type": "code",
   "execution_count": 16,
   "metadata": {},
   "outputs": [],
   "source": [
    "# NFLplays_raw['playType'].unique()"
   ]
  },
  {
   "cell_type": "markdown",
   "metadata": {},
   "source": [
    "* see the lines that have NaN"
   ]
  },
  {
   "cell_type": "code",
   "execution_count": 17,
   "metadata": {},
   "outputs": [],
   "source": [
    "# printColumnsHasNan(NFLplays_raw)"
   ]
  },
  {
   "cell_type": "markdown",
   "metadata": {},
   "source": [
    "* see the lines that have non-numerical values"
   ]
  },
  {
   "cell_type": "code",
   "execution_count": 18,
   "metadata": {},
   "outputs": [],
   "source": [
    "# printNonNumericColumns(NFLplays_raw)"
   ]
  },
  {
   "cell_type": "markdown",
   "metadata": {},
   "source": [
    "### <span style=\"color:red\">runPreprocess</span> \n",
    "this is where the collective preprocessing algorithms come into play!"
   ]
  },
  {
   "cell_type": "code",
   "execution_count": 19,
   "metadata": {},
   "outputs": [],
   "source": [
    "NFLplays = runPreprocess(NFLplays_raw, exclude, idk)\n",
    "# 8 sec on Cyan's laptop"
   ]
  },
  {
   "cell_type": "code",
   "execution_count": 20,
   "metadata": {},
   "outputs": [
    {
     "data": {
      "text/plain": [
       "870384"
      ]
     },
     "execution_count": 20,
     "metadata": {},
     "output_type": "execute_result"
    }
   ],
   "source": [
    "NFLplays.shape[0]"
   ]
  },
  {
   "cell_type": "markdown",
   "metadata": {},
   "source": [
    "* see the set of `'playType'` values"
   ]
  },
  {
   "cell_type": "code",
   "execution_count": 20,
   "metadata": {},
   "outputs": [],
   "source": [
    "# NFLplays['playType'].unique()"
   ]
  },
  {
   "cell_type": "markdown",
   "metadata": {},
   "source": [
    "* `fieldGoalProbability` has nan for these `playType` values\n",
    "  * 'kickoff'\n",
    "  * 'xp'\n",
    "  * 'two-point'\n",
    "  * 'aborted'"
   ]
  },
  {
   "cell_type": "code",
   "execution_count": 21,
   "metadata": {},
   "outputs": [],
   "source": [
    "# NFLplays[NFLplays['fieldGoalProbability'].isnull() & \n",
    "#                        (NFLplays['playType'] != 'kickoff') & \n",
    "#                        (NFLplays['playType'] != 'xp') &\n",
    "#                        (NFLplays['playType'] != 'two-point')&\n",
    "#                        (NFLplays['playType'] != 'aborted')]"
   ]
  },
  {
   "cell_type": "markdown",
   "metadata": {},
   "source": [
    "* `huddle` has nan for these `playType` values\n",
    "  * 'kickoff'\n",
    "  * 'field goal'\n",
    "  * 'punt'\n",
    "  * 'xp'\n",
    "  * 'two-point'\n",
    "  * 'penalty'\n",
    "  * 'aborted'"
   ]
  },
  {
   "cell_type": "code",
   "execution_count": 22,
   "metadata": {},
   "outputs": [],
   "source": [
    "# NFLplays[NFLplays['huddle'].isnull() & \n",
    "#                        (NFLplays['playType'] != 'kickoff') & \n",
    "#                        (NFLplays['playType'] != 'field goal') &\n",
    "#                         (NFLplays['playType'] != 'punt') &\n",
    "#                        (NFLplays['playType'] != 'xp')&\n",
    "#                           (NFLplays['playType'] != 'two-point')&\n",
    "#                           (NFLplays['playType'] != 'penalty')&\n",
    "#                        (NFLplays['playType'] != 'aborted')]"
   ]
  },
  {
   "cell_type": "markdown",
   "metadata": {},
   "source": [
    "## Classification using XGB\n",
    "* due to heavy computational cost, use `fraction` to sample some of the whole data\n",
    "* if too small fraction of data are used, it returns an error\n",
    "\n",
    "|fraction| time taken|\n",
    "|--------|-----------|\n",
    "|1.0     |485 min    |\n",
    "|0.33    |152 min    |\n",
    "|0.1     |42 min     |"
   ]
  },
  {
   "cell_type": "code",
   "execution_count": 21,
   "metadata": {},
   "outputs": [],
   "source": [
    "from Classification import runPlayTypeClassification, convertFractionIntoString, loadResult, loadClassification"
   ]
  },
  {
   "cell_type": "code",
   "execution_count": 22,
   "metadata": {},
   "outputs": [
    {
     "name": "stdout",
     "output_type": "stream",
     "text": [
      "Analysis Sample Size: 870384\n"
     ]
    }
   ],
   "source": [
    "FRACTION = 1.0\n",
    "analysisSampleSize = int(NFLplays.shape[0]*FRACTION)\n",
    "print(f'Analysis Sample Size: {analysisSampleSize}')"
   ]
  },
  {
   "cell_type": "code",
   "execution_count": 23,
   "metadata": {},
   "outputs": [
    {
     "name": "stdout",
     "output_type": "stream",
     "text": [
      "Fraction string tag: 100\n"
     ]
    }
   ],
   "source": [
    "print(f'Fraction string tag: {convertFractionIntoString(FRACTION)}')"
   ]
  },
  {
   "cell_type": "markdown",
   "metadata": {},
   "source": [
    "### <span style=\"color:red\">runPlayTypeClassification</span> \n",
    "this is where the collective classification runs  \n",
    "arguments\n",
    "* the data frame\n",
    "* the fraction(a numerical value between 0 and 1)\n",
    "* the k-fold split number(no default value)\n"
   ]
  },
  {
   "cell_type": "code",
   "execution_count": 51,
   "metadata": {},
   "outputs": [
    {
     "name": "stderr",
     "output_type": "stream",
     "text": [
      "Processing Targets:  33%|███▎      | 1/3 [3:55:33<7:51:06, 14133.20s/it]c:\\Users\\yhjo7\\AppData\\Local\\Programs\\Python\\Python39\\lib\\site-packages\\sklearn\\metrics\\_classification.py:1509: UndefinedMetricWarning: Precision is ill-defined and being set to 0.0 in labels with no predicted samples. Use `zero_division` parameter to control this behavior.\n",
      "  _warn_prf(average, modifier, f\"{metric.capitalize()} is\", len(result))\n",
      "c:\\Users\\yhjo7\\AppData\\Local\\Programs\\Python\\Python39\\lib\\site-packages\\sklearn\\metrics\\_classification.py:1509: UndefinedMetricWarning: Precision is ill-defined and being set to 0.0 in labels with no predicted samples. Use `zero_division` parameter to control this behavior.\n",
      "  _warn_prf(average, modifier, f\"{metric.capitalize()} is\", len(result))\n",
      "c:\\Users\\yhjo7\\AppData\\Local\\Programs\\Python\\Python39\\lib\\site-packages\\sklearn\\metrics\\_classification.py:1509: UndefinedMetricWarning: Precision is ill-defined and being set to 0.0 in labels with no predicted samples. Use `zero_division` parameter to control this behavior.\n",
      "  _warn_prf(average, modifier, f\"{metric.capitalize()} is\", len(result))\n",
      "c:\\Users\\yhjo7\\AppData\\Local\\Programs\\Python\\Python39\\lib\\site-packages\\sklearn\\metrics\\_classification.py:1509: UndefinedMetricWarning: Precision is ill-defined and being set to 0.0 in labels with no predicted samples. Use `zero_division` parameter to control this behavior.\n",
      "  _warn_prf(average, modifier, f\"{metric.capitalize()} is\", len(result))\n",
      "c:\\Users\\yhjo7\\AppData\\Local\\Programs\\Python\\Python39\\lib\\site-packages\\sklearn\\metrics\\_classification.py:1509: UndefinedMetricWarning: Precision is ill-defined and being set to 0.0 in labels with no predicted samples. Use `zero_division` parameter to control this behavior.\n",
      "  _warn_prf(average, modifier, f\"{metric.capitalize()} is\", len(result))\n",
      "c:\\Users\\yhjo7\\AppData\\Local\\Programs\\Python\\Python39\\lib\\site-packages\\sklearn\\metrics\\_classification.py:1509: UndefinedMetricWarning: Precision is ill-defined and being set to 0.0 in labels with no predicted samples. Use `zero_division` parameter to control this behavior.\n",
      "  _warn_prf(average, modifier, f\"{metric.capitalize()} is\", len(result))\n",
      "c:\\Users\\yhjo7\\AppData\\Local\\Programs\\Python\\Python39\\lib\\site-packages\\sklearn\\metrics\\_classification.py:1509: UndefinedMetricWarning: Precision is ill-defined and being set to 0.0 in labels with no predicted samples. Use `zero_division` parameter to control this behavior.\n",
      "  _warn_prf(average, modifier, f\"{metric.capitalize()} is\", len(result))\n",
      "c:\\Users\\yhjo7\\AppData\\Local\\Programs\\Python\\Python39\\lib\\site-packages\\sklearn\\metrics\\_classification.py:1509: UndefinedMetricWarning: Precision is ill-defined and being set to 0.0 in labels with no predicted samples. Use `zero_division` parameter to control this behavior.\n",
      "  _warn_prf(average, modifier, f\"{metric.capitalize()} is\", len(result))\n",
      "c:\\Users\\yhjo7\\AppData\\Local\\Programs\\Python\\Python39\\lib\\site-packages\\sklearn\\metrics\\_classification.py:1509: UndefinedMetricWarning: Precision is ill-defined and being set to 0.0 in labels with no predicted samples. Use `zero_division` parameter to control this behavior.\n",
      "  _warn_prf(average, modifier, f\"{metric.capitalize()} is\", len(result))\n",
      "c:\\Users\\yhjo7\\AppData\\Local\\Programs\\Python\\Python39\\lib\\site-packages\\sklearn\\metrics\\_classification.py:1509: UndefinedMetricWarning: Precision is ill-defined and being set to 0.0 in labels with no predicted samples. Use `zero_division` parameter to control this behavior.\n",
      "  _warn_prf(average, modifier, f\"{metric.capitalize()} is\", len(result))\n",
      "c:\\Users\\yhjo7\\AppData\\Local\\Programs\\Python\\Python39\\lib\\site-packages\\sklearn\\metrics\\_classification.py:1509: UndefinedMetricWarning: Precision is ill-defined and being set to 0.0 in labels with no predicted samples. Use `zero_division` parameter to control this behavior.\n",
      "  _warn_prf(average, modifier, f\"{metric.capitalize()} is\", len(result))\n",
      "c:\\Users\\yhjo7\\AppData\\Local\\Programs\\Python\\Python39\\lib\\site-packages\\sklearn\\metrics\\_classification.py:1509: UndefinedMetricWarning: Precision is ill-defined and being set to 0.0 in labels with no predicted samples. Use `zero_division` parameter to control this behavior.\n",
      "  _warn_prf(average, modifier, f\"{metric.capitalize()} is\", len(result))\n",
      "Processing Targets:  67%|██████▋   | 2/3 [5:10:38<2:21:09, 8469.66s/it] c:\\Users\\yhjo7\\AppData\\Local\\Programs\\Python\\Python39\\lib\\site-packages\\sklearn\\metrics\\_classification.py:1509: UndefinedMetricWarning: Precision is ill-defined and being set to 0.0 in labels with no predicted samples. Use `zero_division` parameter to control this behavior.\n",
      "  _warn_prf(average, modifier, f\"{metric.capitalize()} is\", len(result))\n",
      "c:\\Users\\yhjo7\\AppData\\Local\\Programs\\Python\\Python39\\lib\\site-packages\\sklearn\\metrics\\_classification.py:1509: UndefinedMetricWarning: Precision is ill-defined and being set to 0.0 in labels with no predicted samples. Use `zero_division` parameter to control this behavior.\n",
      "  _warn_prf(average, modifier, f\"{metric.capitalize()} is\", len(result))\n",
      "c:\\Users\\yhjo7\\AppData\\Local\\Programs\\Python\\Python39\\lib\\site-packages\\sklearn\\metrics\\_classification.py:1509: UndefinedMetricWarning: Precision is ill-defined and being set to 0.0 in labels with no predicted samples. Use `zero_division` parameter to control this behavior.\n",
      "  _warn_prf(average, modifier, f\"{metric.capitalize()} is\", len(result))\n",
      "Processing Targets: 100%|██████████| 3/3 [8:05:01<00:00, 9700.40s/it]  \n"
     ]
    }
   ],
   "source": [
    "runPlayTypeClassification(NFLplays, FRACTION, 5)\n",
    "# 1.0 : 485 min\n",
    "# 0.33: 152 min\n",
    "# 0.1 : 42 min"
   ]
  },
  {
   "cell_type": "code",
   "execution_count": 25,
   "metadata": {},
   "outputs": [
    {
     "name": "stdout",
     "output_type": "stream",
     "text": [
      "Results for playType:\n",
      "  Cross-validation scores: [0.80457499, 0.80728069, 0.80660283, 0.80676367, 0.80533215]\n",
      "  Average accuracy: 0.8061\n",
      "  Best parameters:\n",
      "  Accuracies: [0.8046381773582955, 0.8075794045163922, 0.8070394135928354, 0.8077000407865484, 0.8056653415749443]\n",
      "  Best accuracy: 0.8077\n"
     ]
    }
   ],
   "source": [
    "loaded_results = loadResult('../PlayTypeClassification/Classification', 'playType', 1)"
   ]
  },
  {
   "cell_type": "code",
   "execution_count": 29,
   "metadata": {},
   "outputs": [
    {
     "data": {
      "text/html": [
       "<div>\n",
       "<style scoped>\n",
       "    .dataframe tbody tr th:only-of-type {\n",
       "        vertical-align: middle;\n",
       "    }\n",
       "\n",
       "    .dataframe tbody tr th {\n",
       "        vertical-align: top;\n",
       "    }\n",
       "\n",
       "    .dataframe thead th {\n",
       "        text-align: right;\n",
       "    }\n",
       "</style>\n",
       "<table border=\"1\" class=\"dataframe\">\n",
       "  <thead>\n",
       "    <tr style=\"text-align: right;\">\n",
       "      <th></th>\n",
       "      <th>X_test</th>\n",
       "      <th>y_test</th>\n",
       "      <th>y_pred</th>\n",
       "      <th>y_pred_proba</th>\n",
       "    </tr>\n",
       "  </thead>\n",
       "  <tbody>\n",
       "    <tr>\n",
       "      <th>0</th>\n",
       "      <td>0</td>\n",
       "      <td>0</td>\n",
       "      <td>0</td>\n",
       "      <td>0.000021</td>\n",
       "    </tr>\n",
       "    <tr>\n",
       "      <th>1</th>\n",
       "      <td>1</td>\n",
       "      <td>1</td>\n",
       "      <td>1</td>\n",
       "      <td>0.764010</td>\n",
       "    </tr>\n",
       "    <tr>\n",
       "      <th>2</th>\n",
       "      <td>3</td>\n",
       "      <td>1</td>\n",
       "      <td>1</td>\n",
       "      <td>0.779311</td>\n",
       "    </tr>\n",
       "    <tr>\n",
       "      <th>3</th>\n",
       "      <td>5</td>\n",
       "      <td>1</td>\n",
       "      <td>1</td>\n",
       "      <td>0.925746</td>\n",
       "    </tr>\n",
       "    <tr>\n",
       "      <th>4</th>\n",
       "      <td>6</td>\n",
       "      <td>1</td>\n",
       "      <td>4</td>\n",
       "      <td>0.181157</td>\n",
       "    </tr>\n",
       "    <tr>\n",
       "      <th>5</th>\n",
       "      <td>8</td>\n",
       "      <td>1</td>\n",
       "      <td>1</td>\n",
       "      <td>0.921270</td>\n",
       "    </tr>\n",
       "    <tr>\n",
       "      <th>6</th>\n",
       "      <td>14</td>\n",
       "      <td>4</td>\n",
       "      <td>4</td>\n",
       "      <td>0.211993</td>\n",
       "    </tr>\n",
       "    <tr>\n",
       "      <th>7</th>\n",
       "      <td>16</td>\n",
       "      <td>4</td>\n",
       "      <td>4</td>\n",
       "      <td>0.398322</td>\n",
       "    </tr>\n",
       "    <tr>\n",
       "      <th>8</th>\n",
       "      <td>31</td>\n",
       "      <td>1</td>\n",
       "      <td>1</td>\n",
       "      <td>0.829907</td>\n",
       "    </tr>\n",
       "    <tr>\n",
       "      <th>9</th>\n",
       "      <td>42</td>\n",
       "      <td>5</td>\n",
       "      <td>5</td>\n",
       "      <td>0.000409</td>\n",
       "    </tr>\n",
       "    <tr>\n",
       "      <th>10</th>\n",
       "      <td>44</td>\n",
       "      <td>4</td>\n",
       "      <td>1</td>\n",
       "      <td>0.530927</td>\n",
       "    </tr>\n",
       "    <tr>\n",
       "      <th>11</th>\n",
       "      <td>47</td>\n",
       "      <td>4</td>\n",
       "      <td>1</td>\n",
       "      <td>0.667472</td>\n",
       "    </tr>\n",
       "    <tr>\n",
       "      <th>12</th>\n",
       "      <td>50</td>\n",
       "      <td>4</td>\n",
       "      <td>4</td>\n",
       "      <td>0.115585</td>\n",
       "    </tr>\n",
       "    <tr>\n",
       "      <th>13</th>\n",
       "      <td>57</td>\n",
       "      <td>1</td>\n",
       "      <td>1</td>\n",
       "      <td>0.491564</td>\n",
       "    </tr>\n",
       "    <tr>\n",
       "      <th>14</th>\n",
       "      <td>61</td>\n",
       "      <td>1</td>\n",
       "      <td>1</td>\n",
       "      <td>0.898255</td>\n",
       "    </tr>\n",
       "    <tr>\n",
       "      <th>15</th>\n",
       "      <td>64</td>\n",
       "      <td>1</td>\n",
       "      <td>1</td>\n",
       "      <td>0.884472</td>\n",
       "    </tr>\n",
       "    <tr>\n",
       "      <th>16</th>\n",
       "      <td>80</td>\n",
       "      <td>0</td>\n",
       "      <td>0</td>\n",
       "      <td>0.000014</td>\n",
       "    </tr>\n",
       "    <tr>\n",
       "      <th>17</th>\n",
       "      <td>92</td>\n",
       "      <td>1</td>\n",
       "      <td>1</td>\n",
       "      <td>0.810099</td>\n",
       "    </tr>\n",
       "    <tr>\n",
       "      <th>18</th>\n",
       "      <td>96</td>\n",
       "      <td>1</td>\n",
       "      <td>1</td>\n",
       "      <td>0.876259</td>\n",
       "    </tr>\n",
       "    <tr>\n",
       "      <th>19</th>\n",
       "      <td>112</td>\n",
       "      <td>4</td>\n",
       "      <td>4</td>\n",
       "      <td>0.425017</td>\n",
       "    </tr>\n",
       "  </tbody>\n",
       "</table>\n",
       "</div>"
      ],
      "text/plain": [
       "    X_test  y_test  y_pred  y_pred_proba\n",
       "0        0       0       0      0.000021\n",
       "1        1       1       1      0.764010\n",
       "2        3       1       1      0.779311\n",
       "3        5       1       1      0.925746\n",
       "4        6       1       4      0.181157\n",
       "5        8       1       1      0.921270\n",
       "6       14       4       4      0.211993\n",
       "7       16       4       4      0.398322\n",
       "8       31       1       1      0.829907\n",
       "9       42       5       5      0.000409\n",
       "10      44       4       1      0.530927\n",
       "11      47       4       1      0.667472\n",
       "12      50       4       4      0.115585\n",
       "13      57       1       1      0.491564\n",
       "14      61       1       1      0.898255\n",
       "15      64       1       1      0.884472\n",
       "16      80       0       0      0.000014\n",
       "17      92       1       1      0.810099\n",
       "18      96       1       1      0.876259\n",
       "19     112       4       4      0.425017"
      ]
     },
     "execution_count": 29,
     "metadata": {},
     "output_type": "execute_result"
    }
   ],
   "source": [
    "loaded_classification = loadClassification('../PlayTypeClassification/Classification', 'playType', 1)\n",
    "loaded_classification[:20]"
   ]
  }
 ],
 "metadata": {
  "kernelspec": {
   "display_name": "Python 3",
   "language": "python",
   "name": "python3"
  },
  "language_info": {
   "codemirror_mode": {
    "name": "ipython",
    "version": 3
   },
   "file_extension": ".py",
   "mimetype": "text/x-python",
   "name": "python",
   "nbconvert_exporter": "python",
   "pygments_lexer": "ipython3",
   "version": "3.9.13"
  }
 },
 "nbformat": 4,
 "nbformat_minor": 2
}
