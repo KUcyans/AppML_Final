{
 "cells": [
  {
   "cell_type": "code",
   "execution_count": 2,
   "id": "f18e1a7e",
   "metadata": {},
   "outputs": [
    {
     "name": "stdout",
     "output_type": "stream",
     "text": [
      "im trying my best\n"
     ]
    }
   ],
   "source": [
    "# For Cyan: from 'Settings' in the repository, select 'Collaborators', 'Add people' and entere GitHub usernames or emails\n",
    "# Assign 'Write' permissions for the collaborators\n",
    "\n",
    "# For everyone:\n",
    "# Clone repository locally\n",
    "# Open git bash and \n",
    "git clone https://github.com/KUcyans/AppML_Final.git .\n",
    "\n",
    "# Create a branch for everyone working, for example Jaume-code\n",
    "git checkout -b Jaume-code\n",
    "\n",
    "# Make sure you have the updated version before starting to work\n",
    "git pull origin main\n",
    "\n",
    "# Make any changes, add or delete files in your local repository\n",
    "\n",
    "# Commit changes\n",
    "git add .\n",
    "git commit -m ''Your commit message''\n",
    "\n",
    "# If you have problem to git commit -m ''Your commit message'' with Error saying Author identity unknown then\n",
    "git config --global user.name \"Your Name\"\n",
    "git config --global user.email \"your@example.com\"\n",
    "\n",
    "# Push your branch (Jaume-code for this example) to GitHub \n",
    "git push origin Jaume-code\n",
    "\n",
    "# Pull request and code review on GitHub 'Pull requests', 'New pull request', select the branch you push it and compare to the main\n",
    "# then a collaborator with write access can merge the pull request\n"
   ]
  },
  {
   "cell_type": "code",
   "execution_count": null,
   "id": "ed3511cb",
   "metadata": {},
   "outputs": [],
   "source": [
    "\n",
    " "
   ]
  }
 ],
 "metadata": {
  "kernelspec": {
   "display_name": "Python 3 (ipykernel)",
   "language": "python",
   "name": "python3"
  },
  "language_info": {
   "codemirror_mode": {
    "name": "ipython",
    "version": 3
   },
   "file_extension": ".py",
   "mimetype": "text/x-python",
   "name": "python",
   "nbconvert_exporter": "python",
   "pygments_lexer": "ipython3",
   "version": "3.11.7"
  }
 },
 "nbformat": 4,
 "nbformat_minor": 5
}
